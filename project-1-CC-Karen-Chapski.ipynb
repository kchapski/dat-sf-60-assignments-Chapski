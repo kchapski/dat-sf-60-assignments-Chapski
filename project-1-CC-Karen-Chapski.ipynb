{
 "cells": [
  {
   "cell_type": "markdown",
   "metadata": {},
   "source": [
    "<img src=\"http://imgur.com/1ZcRyrc.png\" style=\"float: left; margin: 20px; height: 55px\">\n",
    "\n",
    "# Project 1: Python Coding Exercises\n",
    "\n",
    "_Authors: Joseph Nelson (DC)_\n",
    "\n",
    "---"
   ]
  },
  {
   "cell_type": "markdown",
   "metadata": {},
   "source": [
    "The following code challenges are drawn from common exercises used in technical interviews.\n",
    "\n",
    "Please note that there may be several ways to approach each challenge. If you get stuck, try mapping out your approach in pseudocode first. Finally, while solutions to problems like these may be found online, remember that if you copy/paste code that you can't explain, you'll be missing out on the point of the project. The only way to truly learn a new skill is through practice, trial, and error - we can only help you improve by understanding where you are having trouble."
   ]
  },
  {
   "cell_type": "markdown",
   "metadata": {},
   "source": [
    "### Challenge 1: Largest Palindrome\n",
    "A palindromic number reads the same both ways. For example, 1234321 is a palindrome. The largest palindrome made from the product of two two-digit numbers is 9009 = 91 × 99. Find the largest palindrome made from the product of two three-digit numbers. Afterward, write a brief explanation walking through your code's logic in markdown."
   ]
  },
  {
   "cell_type": "markdown",
   "metadata": {},
   "source": [
    "Logic:\n",
    "\n",
    "*check if the product of the two numbers (3 digits) are the same forwards and backwards\n",
    "*convert the product to a string, compare it to the reversed string to determine if it's a palindrome\n",
    "*iterate through all 3 digit numbers to make sure it's the largest\n",
    "\n",
    "\n",
    "- create a placeholder for the potential palindrome product\n",
    "- test all possible 3 digit numbers: iterate through all the 3 digit numbers for both product components\n",
    "- multiply number 1 by number 2, resulting in a product to test\n",
    "- store the product as a string\n",
    "- check to see if the product (string format is the same forwards and backwards)\n",
    "- if this is true, store the value in the placeholder for the potential palindrome product\n",
    "- at the end of the iterations the last value in the palindrome placeholder will be the largest palindrome "
   ]
  },
  {
   "cell_type": "code",
   "execution_count": 66,
   "metadata": {},
   "outputs": [
    {
     "name": "stdout",
     "output_type": "stream",
     "text": [
      "906609\n"
     ]
    }
   ],
   "source": [
    "valid_palin=0\n",
    "\n",
    "for num1 in range(100,1000):\n",
    "    for num2 in range(100,1000):\n",
    "        product=num1*num2\n",
    "        if product > valid_palin:\n",
    "            string_palin = str(num1*num2)\n",
    "            if string_palin == string_palin[::-1]:\n",
    "                valid_palin = num1*num2\n",
    "print(valid_palin)\n",
    "        \n"
   ]
  },
  {
   "cell_type": "markdown",
   "metadata": {},
   "source": [
    "\n",
    "### Challenge 2: Summation of Primes\n",
    "The sum of the primes below 10 is 2 + 3 + 5 + 7 = 17. Find the sum of all the primes below 2,000. Afterward, write a brief explanation walking through your code's logic in markdown."
   ]
  },
  {
   "cell_type": "markdown",
   "metadata": {},
   "source": [
    "Background:\n",
    "\n",
    "definition of a prime number:\n",
    "- 1 is not a prime number\n",
    "- divisible by only two integers: itself and 1\n",
    "- a positive integer"
   ]
  },
  {
   "cell_type": "markdown",
   "metadata": {},
   "source": [
    "Logic Description\n",
    "\n",
    "\n",
    "*iterate through all numbers in range\n",
    "*check to see if it's a prime number\n",
    "*if it's a prime store it in a list, add following primes to the list\n",
    "*sum all elements in the list\n",
    "\n",
    "\n",
    "- create a placeholder list for the prime numbers\n",
    "- iterate through numbers given above (1 can't be a prime, etc)\n",
    "- initialize a binary variable to hold prime status \n",
    "- iterate through a list of numbers that will be used to check if a number is a prime\n",
    "- check to see if the number is prime by iterating between 2 and the prime (IE if prime_number is 4, check remainders on 2,3)\n",
    "- if prime is not set to false it is appended to the placeholder list (list_of_primes)\n",
    "- sum the elements of the list"
   ]
  },
  {
   "cell_type": "code",
   "execution_count": 100,
   "metadata": {},
   "outputs": [
    {
     "name": "stdout",
     "output_type": "stream",
     "text": [
      "277050\n"
     ]
    }
   ],
   "source": [
    "#initialize a list to hold primes:\n",
    "list_of_primes= []\n",
    "for prime_number in range(2, 2001):\n",
    "    prime = True\n",
    "    for num in range (2,prime_number):\n",
    "        #print (\"prime: \" +str(prime_number))\n",
    "        #print (num)\n",
    "        #print(prime_number % num ==0)\n",
    "        if prime_number % num ==0:\n",
    "            prime = False\n",
    "    if prime:\n",
    "        list_of_primes.append(prime_number)\n",
    "\n",
    "#print(list_of_primes)\n",
    "\n",
    "#calculate sum of all items in the prime list\n",
    "print(sum(list_of_primes))"
   ]
  },
  {
   "cell_type": "markdown",
   "metadata": {},
   "source": [
    "### Challenge 3: Multiples of 3 and 5\n",
    "If we list all of the natural numbers below 10 that are multiples of 3 or 5, we get 3, 5, 6, and 9. The sum of these multiples is 23. Find the sum of all the multiples of 3 and 5 below 1,000. Afterward, write a brief explanation walking through your code's logic in markdown."
   ]
  },
  {
   "cell_type": "markdown",
   "metadata": {},
   "source": [
    "Logic Description\n",
    "\n",
    "*iterate through defined range\n",
    "*check to see if the number is a multiple of 3 or 5\n",
    "*if it's a multiple add to a list, add following to the list\n",
    "*sum all numbers in the list\n",
    "\n",
    "- create a placeholder list for multiples\n",
    "- iterate through a set range to check for multiples below 1000\n",
    "- if the number is divisible by 3 or 5 add the number to the list of multiples\n",
    "- sum all the elements of the list"
   ]
  },
  {
   "cell_type": "code",
   "execution_count": 89,
   "metadata": {},
   "outputs": [
    {
     "name": "stdout",
     "output_type": "stream",
     "text": [
      "233168\n"
     ]
    }
   ],
   "source": [
    "list_of_multiples= []\n",
    "max = 1000\n",
    "for multiple in range (1,max):\n",
    "    if (multiple%3 == 0 or multiple%5 == 0):\n",
    "        #print (n)\n",
    "        list_of_multiples.append(multiple)\n",
    "\n",
    "print (sum(list_of_multiples))"
   ]
  },
  {
   "cell_type": "markdown",
   "metadata": {},
   "source": [
    "### Challenge 4: String Compressor\n",
    "Implement a method to perform basic string compression using the counts of repeated characters. (This is called run-length encoding.) For example, the string \"aabcccccaaa\" would become a2b1c5a3. If the “compressed” string would not become smaller than the original string, your method should return the original string. You can assume the string has only uppercase and lowercase letters (a–z). Specify whether your solution is case sensitive or case insensitive and what you would need to change to make it the other. Afterward, write a brief explanation walking through your code's logic in markdown."
   ]
  },
  {
   "cell_type": "markdown",
   "metadata": {},
   "source": [
    "Logic:\n",
    "\n",
    "*check to see if the current character and the next are the same, if they are then increment count\n",
    "*if the current character and following character are not the same then append existing compressed string with current character and count"
   ]
  },
  {
   "cell_type": "code",
   "execution_count": 126,
   "metadata": {},
   "outputs": [
    {
     "name": "stdout",
     "output_type": "stream",
     "text": [
      "a2b1c5a3\n"
     ]
    }
   ],
   "source": [
    "example_string = 'aabcccccaaa'\n",
    "#count = 0\n",
    "\n",
    "#define function to compress a given string 'string'\n",
    "def compress_string (string):\n",
    "    #initialize empty string for compressed version of the input string\n",
    "    compressed_string = \"\"\n",
    "    #set count of characters to 1\n",
    "    count_char =1\n",
    "\n",
    "    #loop through the length in the input string\n",
    "    for i in range(len(string)-1):\n",
    "        #check if the current character and the following character are equal\n",
    "        if string[i] == string [i+1]:\n",
    "            #if characters are equal add 1 to the count variable\n",
    "            count_char = count_char +1\n",
    "        else: \n",
    "            #if the characters are not the same assign the current value of compressed string with current string value and count\n",
    "            compressed_string = compressed_string+ string[i] + str(count_char)\n",
    "            #reset character count to 1\n",
    "            count_char =1\n",
    "    #assign the current value to existing compressed string plus current value and count, handles last character\n",
    "    compressed_string = compressed_string+ string[i] + str(count_char)\n",
    "\n",
    "    # if the length of the compressed string is longer than or equal to the original string return original string otherwise return compressed string\n",
    "    if len(compressed_string)>= len(string):\n",
    "        return(string)\n",
    "    else: \n",
    "        return(compressed_string)\n",
    "    \n",
    "#run the method on the example string\n",
    "print(compress_string(example_string))\n",
    "\n"
   ]
  },
  {
   "cell_type": "markdown",
   "metadata": {},
   "source": [
    "### *BONUS* Challenge: FizzBuzz\n",
    "Write a program that prints all of the numbers from 1 to 100. For multiples of 3, instead of the number, print \"Fizz;\" for multiples of 5, print \"Buzz.\" For numbers that are multiples of both 3 and 5, print \"FizzBuzz.\" Afterward, write a brief explanation walking through your code's logic in markdown."
   ]
  },
  {
   "cell_type": "markdown",
   "metadata": {},
   "source": [
    "Logic:\n",
    "\n",
    "*check to see if the number is divisible by 3 and 5\n",
    "*check to see if the number is divisible by 3\n",
    "*check to see if the number is divisible by 5\n",
    "*print out resulting phrases\n",
    "\n",
    "- iterate through numbers 1-100\n",
    "- if the number is divisible by 3 and 5 print fizzbuss\n",
    "- if the number is divisible by 3 print fizz\n",
    "- if the numebr is divisible by 5 print buzz\n",
    "- if none of the other conditions are met, print the number"
   ]
  },
  {
   "cell_type": "code",
   "execution_count": 4,
   "metadata": {},
   "outputs": [
    {
     "name": "stdout",
     "output_type": "stream",
     "text": [
      "1\n",
      "2\n",
      "Fizz\n",
      "4\n",
      "Buzz\n",
      "Fizz\n",
      "7\n",
      "8\n",
      "Fizz\n",
      "Buzz\n",
      "11\n",
      "Fizz\n",
      "13\n",
      "14\n",
      "FizzBuzz\n",
      "16\n",
      "17\n",
      "Fizz\n",
      "19\n",
      "Buzz\n",
      "Fizz\n",
      "22\n",
      "23\n",
      "Fizz\n",
      "Buzz\n",
      "26\n",
      "Fizz\n",
      "28\n",
      "29\n",
      "FizzBuzz\n",
      "31\n",
      "32\n",
      "Fizz\n",
      "34\n",
      "Buzz\n",
      "Fizz\n",
      "37\n",
      "38\n",
      "Fizz\n",
      "Buzz\n",
      "41\n",
      "Fizz\n",
      "43\n",
      "44\n",
      "FizzBuzz\n",
      "46\n",
      "47\n",
      "Fizz\n",
      "49\n",
      "Buzz\n",
      "Fizz\n",
      "52\n",
      "53\n",
      "Fizz\n",
      "Buzz\n",
      "56\n",
      "Fizz\n",
      "58\n",
      "59\n",
      "FizzBuzz\n",
      "61\n",
      "62\n",
      "Fizz\n",
      "64\n",
      "Buzz\n",
      "Fizz\n",
      "67\n",
      "68\n",
      "Fizz\n",
      "Buzz\n",
      "71\n",
      "Fizz\n",
      "73\n",
      "74\n",
      "FizzBuzz\n",
      "76\n",
      "77\n",
      "Fizz\n",
      "79\n",
      "Buzz\n",
      "Fizz\n",
      "82\n",
      "83\n",
      "Fizz\n",
      "Buzz\n",
      "86\n",
      "Fizz\n",
      "88\n",
      "89\n",
      "FizzBuzz\n",
      "91\n",
      "92\n",
      "Fizz\n",
      "94\n",
      "Buzz\n",
      "Fizz\n",
      "97\n",
      "98\n",
      "Fizz\n",
      "Buzz\n"
     ]
    }
   ],
   "source": [
    "\n",
    "for n in range(1,101):\n",
    "    if (n%3 == 0 and n%5==0):\n",
    "        print(\"FizzBuzz\")\n",
    "    elif n%3 ==0:\n",
    "        print(\"Fizz\")\n",
    "    elif n%5 == 0:\n",
    "        print (\"Buzz\")\n",
    "    else:\n",
    "        print (n)"
   ]
  }
 ],
 "metadata": {
  "anaconda-cloud": {},
  "kernelspec": {
   "display_name": "Python 3",
   "language": "python",
   "name": "python3"
  },
  "language_info": {
   "codemirror_mode": {
    "name": "ipython",
    "version": 3
   },
   "file_extension": ".py",
   "mimetype": "text/x-python",
   "name": "python",
   "nbconvert_exporter": "python",
   "pygments_lexer": "ipython3",
   "version": "3.6.6"
  }
 },
 "nbformat": 4,
 "nbformat_minor": 2
}
